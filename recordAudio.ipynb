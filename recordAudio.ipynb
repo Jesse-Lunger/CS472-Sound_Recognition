{
 "cells": [
  {
   "cell_type": "code",
   "execution_count": 4,
   "metadata": {},
   "outputs": [
    {
     "name": "stdout",
     "output_type": "stream",
     "text": [
      "start recording\n",
      "0\n"
     ]
    }
   ],
   "source": [
    "#sudo apt-get install python3-pyaudio\n",
    "\n",
    "#This doesn't work in wsl, let me know if works for you guys\n",
    "\n",
    "import pyaudio\n",
    "import wave\n",
    "\n",
    "FRAMES_PER_BUFFER = 3200\n",
    "\n",
    "FORMAT = pyaudio.paInt16\n",
    "CHANNELS = 2\n",
    "\n",
    "RATE = 1600\n",
    "\n",
    "p = pyaudio.PyAudio()\n",
    "\n",
    "stream = p.open (\n",
    "            format=FORMAT, \n",
    "            channels=CHANNELS,\n",
    "            rate=RATE,\n",
    "            input=True,\n",
    "            frames_per_buffer=FRAMES_PER_BUFFER)\n",
    "\n",
    "\n",
    "print(\"start recording\")\n",
    "\n",
    "print(p.get_device_count())\n",
    "\n",
    "seconds = 5\n",
    "frames = []\n",
    "\n",
    "for i in range(0, int(RATE/FRAMES_PER_BUFFER*seconds)):\n",
    "    data = stream.read(FRAMES_PER_BUFFER)\n",
    "    frames.append(data)\n",
    "\n",
    "stream.stop_stream()\n",
    "stream.close()\n",
    "p.terminate()\n",
    "\n",
    "obj = wave.open(\"pyRecording.wav\", \"wb\")\n",
    "obj.setnchannels(CHANNELS)\n",
    "obj.setsampwidth(p.get_sample_size(FORMAT))\n",
    "obj.writeframes(b\"\".join(frames))\n",
    "\n",
    "obj.close()\n"
   ]
  }
 ],
 "metadata": {
  "kernelspec": {
   "display_name": "Python 3",
   "language": "python",
   "name": "python3"
  },
  "language_info": {
   "codemirror_mode": {
    "name": "ipython",
    "version": 3
   },
   "file_extension": ".py",
   "mimetype": "text/x-python",
   "name": "python",
   "nbconvert_exporter": "python",
   "pygments_lexer": "ipython3",
   "version": "3.8.10"
  },
  "orig_nbformat": 4,
  "vscode": {
   "interpreter": {
    "hash": "31f2aee4e71d21fbe5cf8b01ff0e069b9275f58929596ceb00d14d90e3e16cd6"
   }
  }
 },
 "nbformat": 4,
 "nbformat_minor": 2
}
