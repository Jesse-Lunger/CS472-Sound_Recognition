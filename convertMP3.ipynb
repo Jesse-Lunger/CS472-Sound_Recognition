{
 "cells": [
  {
   "cell_type": "code",
   "execution_count": 2,
   "metadata": {},
   "outputs": [
    {
     "ename": "AttributeError",
     "evalue": "type object 'AudioSegment' has no attribute 'from_wave'",
     "output_type": "error",
     "traceback": [
      "\u001b[0;31m---------------------------------------------------------------------------\u001b[0m",
      "\u001b[0;31mAttributeError\u001b[0m                            Traceback (most recent call last)",
      "Cell \u001b[0;32mIn[2], line 7\u001b[0m\n\u001b[1;32m      1\u001b[0m \u001b[39m#sudo apt update && sudo apt upgrade\u001b[39;00m\n\u001b[1;32m      2\u001b[0m \u001b[39m#sudo apt install ffmpeg\u001b[39;00m\n\u001b[1;32m      3\u001b[0m \u001b[39m#pip install pydub\u001b[39;00m\n\u001b[1;32m      5\u001b[0m \u001b[39mfrom\u001b[39;00m \u001b[39mpydub\u001b[39;00m \u001b[39mimport\u001b[39;00m AudioSegment\n\u001b[0;32m----> 7\u001b[0m audio \u001b[39m=\u001b[39m AudioSegment\u001b[39m.\u001b[39;49mfrom_wave(\u001b[39m\"\u001b[39m\u001b[39mRecording.wave\u001b[39m\u001b[39m\"\u001b[39m)\n",
      "\u001b[0;31mAttributeError\u001b[0m: type object 'AudioSegment' has no attribute 'from_wave'"
     ]
    }
   ],
   "source": [
    "#necessary downloads to run (linux)\n",
    "#sudo apt update && sudo apt upgrade && sudo apt install ffmpeg && pip install pydub\n",
    "\n",
    "#tutorial: https://www.youtube.com/watch?v=mYUyaKmvu6Y&t=970s&ab_channel=freeCodeCamp.org\n",
    "\n",
    "from pydub import AudioSegment\n",
    "\n",
    "audio = AudioSegment.from_wav(\"Recording.wav\")\n",
    "\n",
    "audio += 6\n",
    "\n",
    "audio *= 2\n",
    "\n",
    "audio = audio.fade_in(2000)\n",
    "\n",
    "audio.export(\"mashup.mp3\", format=\"mp3\")\n",
    "\n",
    "audio2 = AudioSegment.from_mp3(\"mashup.mp3\")\n",
    "\n",
    "print(\"done\")"
   ]
  }
 ],
 "metadata": {
  "kernelspec": {
   "display_name": "Python 3",
   "language": "python",
   "name": "python3"
  },
  "language_info": {
   "codemirror_mode": {
    "name": "ipython",
    "version": 3
   },
   "file_extension": ".py",
   "mimetype": "text/x-python",
   "name": "python",
   "nbconvert_exporter": "python",
   "pygments_lexer": "ipython3",
   "version": "3.8.10 (default, Nov 14 2022, 12:59:47) \n[GCC 9.4.0]"
  },
  "orig_nbformat": 4,
  "vscode": {
   "interpreter": {
    "hash": "31f2aee4e71d21fbe5cf8b01ff0e069b9275f58929596ceb00d14d90e3e16cd6"
   }
  }
 },
 "nbformat": 4,
 "nbformat_minor": 2
}
